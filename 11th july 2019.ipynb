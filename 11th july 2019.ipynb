{
 "cells": [
  {
   "cell_type": "markdown",
   "metadata": {},
   "source": [
    "### Standard Libraries\n",
    "- File I/O\n",
    "- Regular Expression\n",
    "- Datetime\n",
    "- Math(numerical and Mathematical)"
   ]
  },
  {
   "cell_type": "markdown",
   "metadata": {},
   "source": [
    "### File Handling in Python\n",
    "- File:- Document containing information resides on the permanent storage\n",
    "- Different types of files :- txt,doc,pdf,csv and etc...\n",
    "- Input--Keyboard\n",
    "- Output--File\n",
    "### Modes of the file I/O\n",
    "- 'w'--This mode used to file writing\n",
    "\n",
    "      --If the file is not present first it creates the file and write so me data to it\n",
    "      --If the file is already present then it will rewrite the previous content\n",
    " "
   ]
  },
  {
   "cell_type": "code",
   "execution_count": 7,
   "metadata": {},
   "outputs": [
    {
     "name": "stdout",
     "output_type": "stream",
     "text": [
      "File is created and data has written\n"
     ]
    }
   ],
   "source": [
    "# Function to create a file and write to the file\n",
    "def createFile(filename):\n",
    "    f = open(filename,'w')\n",
    "    for i in range(10):\n",
    "        f.write('This is %d Line\\n' % i)\n",
    "    print(\"File is created and data has written\")\n",
    "    return\n",
    "createFile('file1.txt')\n",
    "\n",
    "    "
   ]
  },
  {
   "cell_type": "code",
   "execution_count": 8,
   "metadata": {},
   "outputs": [
    {
     "name": "stdout",
     "output_type": "stream",
     "text": [
      "File is created and data has written\n"
     ]
    }
   ],
   "source": [
    "def createFile(filename):\n",
    "    f = open(filename,'w')\n",
    "    f.write('Testing...\\n')\n",
    "    print(\"File is created and data has written\")\n",
    "    return\n",
    "createFile('file1.txt')\n"
   ]
  },
  {
   "cell_type": "code",
   "execution_count": 11,
   "metadata": {},
   "outputs": [
    {
     "name": "stdout",
     "output_type": "stream",
     "text": [
      "File is created and successfully data has written\n"
     ]
    }
   ],
   "source": [
    "def appenddata(filename):\n",
    "  f = open(filename,'a')\n",
    "  for i in range(10):\n",
    "      f.write(\"This is %d Line\\n\" % i)\n",
    "  print(\"File is created and successfully data has written\")\n",
    "  return\n",
    "appenddata('file2.txt')"
   ]
  },
  {
   "cell_type": "code",
   "execution_count": 12,
   "metadata": {},
   "outputs": [
    {
     "name": "stdout",
     "output_type": "stream",
     "text": [
      "File is created and successfully data has written\n"
     ]
    }
   ],
   "source": [
    "def appenddata(filename):\n",
    "  f = open(filename,'w')\n",
    "  for i in range(10):\n",
    "      f.write(\"new line 1 \\n\")\n",
    "      f.write(\"new line 2 \\n\")\n",
    "  print(\"File is created and successfully data has written\")\n",
    "  return\n",
    "appenddata('file2.txt')\n"
   ]
  },
  {
   "cell_type": "code",
   "execution_count": 13,
   "metadata": {},
   "outputs": [
    {
     "name": "stdout",
     "output_type": "stream",
     "text": [
      "new line 1 \n",
      "new line 2 \n",
      "new line 1 \n",
      "new line 2 \n",
      "new line 1 \n",
      "new line 2 \n",
      "new line 1 \n",
      "new line 2 \n",
      "new line 1 \n",
      "new line 2 \n",
      "new line 1 \n",
      "new line 2 \n",
      "new line 1 \n",
      "new line 2 \n",
      "new line 1 \n",
      "new line 2 \n",
      "new line 1 \n",
      "new line 2 \n",
      "new line 1 \n",
      "new line 2 \n",
      "\n"
     ]
    }
   ],
   "source": [
    "# function to read of the file \n",
    "def readfiledata(filename):\n",
    "   f = open(filename,'r')\n",
    "   if f.mode == 'r':\n",
    "       x = f.read()\n",
    "       print(x)\n",
    "   f.close()\n",
    "   return\n",
    "readfiledata('file2.txt')\n"
   ]
  },
  {
   "cell_type": "code",
   "execution_count": 1,
   "metadata": {},
   "outputs": [
    {
     "name": "stdout",
     "output_type": "stream",
     "text": [
      "Enter the file namefile2.txt\n",
      "Enter ther mode of the filer\n",
      "new line 1 \n",
      "new line 2 \n",
      "new line 1 \n",
      "new line 2 \n",
      "new line 1 \n",
      "new line 2 \n",
      "new line 1 \n",
      "new line 2 \n",
      "new line 1 \n",
      "new line 2 \n",
      "new line 1 \n",
      "new line 2 \n",
      "new line 1 \n",
      "new line 2 \n",
      "new line 1 \n",
      "new line 2 \n",
      "new line 1 \n",
      "new line 2 \n",
      "new line 1 \n",
      "new line 2 \n",
      "\n"
     ]
    }
   ],
   "source": [
    "# Fuction to read the file\n",
    "def fileOperations(filename,mode):\n",
    "   with open(filename,mode) as f:\n",
    "       if f.mode == 'r':\n",
    "           data = f.read()\n",
    "           print(data)\n",
    "       elif f.mode == 'a':\n",
    "           f.write('Data to the file')\n",
    "           print('The data successfully written')\n",
    "   f.close()\n",
    "   return\n",
    "filename = input('Enter the file name')\n",
    "mode = input('Enter ther mode of the file')\n",
    "fileOperations(filename,mode)"
   ]
  },
  {
   "cell_type": "code",
   "execution_count": 1,
   "metadata": {},
   "outputs": [
    {
     "name": "stdout",
     "output_type": "stream",
     "text": [
      "Enter the file name : file2.txt\n",
      "Enter the word : This\n"
     ]
    },
    {
     "data": {
      "text/plain": [
       "0"
      ]
     },
     "execution_count": 1,
     "metadata": {},
     "output_type": "execute_result"
    }
   ],
   "source": [
    "# Data Analysis\n",
    "# Word Count Program\n",
    "def wordCount(filename,word):\n",
    "  with open(filename,'r') as f:\n",
    "      if f.mode == 'r':\n",
    "          x = f.read()\n",
    "          li = x.split()\n",
    "  cnt = li.count(word)\n",
    "  return cnt\n",
    "filename = input('Enter the file name : ')\n",
    "word = input('Enter the word : ')\n",
    "wordCount(filename,word)"
   ]
  },
  {
   "cell_type": "code",
   "execution_count": 1,
   "metadata": {},
   "outputs": [
    {
     "name": "stdout",
     "output_type": "stream",
     "text": [
      "enter the filename : file2.txt\n"
     ]
    },
    {
     "data": {
      "text/plain": [
       "240"
      ]
     },
     "execution_count": 1,
     "metadata": {},
     "output_type": "execute_result"
    }
   ],
   "source": [
    "# character count from the given file\n",
    "def charCount(filename):\n",
    "   with open(filename,'r') as f:\n",
    "       if f.mode == 'r':\n",
    "           x= f.read()\n",
    "           li = list(x)\n",
    "   return len(li)\n",
    "filename = input('enter the filename : ')\n",
    "charCount(filename)\n"
   ]
  },
  {
   "cell_type": "code",
   "execution_count": 1,
   "metadata": {},
   "outputs": [
    {
     "name": "stdout",
     "output_type": "stream",
     "text": [
      "Enter the filename:file2.txt\n"
     ]
    },
    {
     "data": {
      "text/plain": [
       "21"
      ]
     },
     "execution_count": 1,
     "metadata": {},
     "output_type": "execute_result"
    }
   ],
   "source": [
    "def countoflines(filename):\n",
    "   with open(filename,'r') as f:\n",
    "       if f.mode=='r':\n",
    "           x=f.read()\n",
    "           li=x.split(\"\\n\")\n",
    "   return len(li)\n",
    "filename=input('Enter the filename:')\n",
    "countoflines(filename)\n"
   ]
  },
  {
   "cell_type": "code",
   "execution_count": 2,
   "metadata": {},
   "outputs": [
    {
     "name": "stdout",
     "output_type": "stream",
     "text": [
      "['python progr', 'ming']\n"
     ]
    }
   ],
   "source": [
    "s1=\"python programing\"\n",
    "print(s1.split('a'))"
   ]
  },
  {
   "cell_type": "code",
   "execution_count": 8,
   "metadata": {},
   "outputs": [
    {
     "name": "stdout",
     "output_type": "stream",
     "text": [
      "enter filename:file2.txt\n"
     ]
    },
    {
     "data": {
      "text/plain": [
       "'upper case = 0,lower case =140'"
      ]
     },
     "execution_count": 8,
     "metadata": {},
     "output_type": "execute_result"
    }
   ],
   "source": [
    "def casecount(filename):\n",
    "    cntupper = 0\n",
    "    cntlower = 0\n",
    "    with open(filename,'r') as f:\n",
    "        if f.mode =='r':\n",
    "           x = f.read()\n",
    "           li=list(x)\n",
    "    for i in li:\n",
    "        if i.isupper():\n",
    "           cntupper +=1\n",
    "        elif i.islower():\n",
    "           cntlower +=1\n",
    "    output='upper case = {0},lower case ={1}'.format(cntupper,cntlower)\n",
    "    return output\n",
    "filename =input('enter filename:')\n",
    "casecount(filename)\n"
   ]
  },
  {
   "cell_type": "code",
   "execution_count": 10,
   "metadata": {},
   "outputs": [
    {
     "name": "stdout",
     "output_type": "stream",
     "text": [
      "C:\\Users\n"
     ]
    }
   ],
   "source": [
    "cd .."
   ]
  },
  {
   "cell_type": "code",
   "execution_count": 11,
   "metadata": {},
   "outputs": [
    {
     "name": "stdout",
     "output_type": "stream",
     "text": [
      "[WinError 3] The system cannot find the path specified: 'Desktop/Pythonprog'\n",
      "C:\\Users\n"
     ]
    }
   ],
   "source": [
    "cd Desktop/Pythonprog"
   ]
  },
  {
   "cell_type": "code",
   "execution_count": 12,
   "metadata": {},
   "outputs": [
    {
     "name": "stdout",
     "output_type": "stream",
     "text": [
      " Volume in drive C has no label.\n",
      " Volume Serial Number is E0F9-7D28\n",
      "\n",
      " Directory of C:\\Users\n",
      "\n",
      "29-May-19  10:33 AM    <DIR>          .\n",
      "29-May-19  10:33 AM    <DIR>          ..\n",
      "11-Jul-19  12:44 PM    <DIR>          206\n",
      "04-Feb-19  11:23 AM    <DIR>          exam\n",
      "14-Jul-09  12:56 PM    <DIR>          Public\n",
      "03-Jun-19  10:47 AM    <DIR>          student\n",
      "               0 File(s)              0 bytes\n",
      "               6 Dir(s)  83,163,516,928 bytes free\n"
     ]
    }
   ],
   "source": [
    "ls"
   ]
  },
  {
   "cell_type": "code",
   "execution_count": 13,
   "metadata": {},
   "outputs": [
    {
     "data": {
      "text/plain": [
       "'C:\\\\Users'"
      ]
     },
     "execution_count": 13,
     "metadata": {},
     "output_type": "execute_result"
    }
   ],
   "source": [
    "pwd"
   ]
  },
  {
   "cell_type": "code",
   "execution_count": 6,
   "metadata": {},
   "outputs": [
    {
     "ename": "NameError",
     "evalue": "name 'os' is not defined",
     "output_type": "error",
     "traceback": [
      "\u001b[1;31m---------------------------------------------------------------------------\u001b[0m",
      "\u001b[1;31mNameError\u001b[0m                                 Traceback (most recent call last)",
      "\u001b[1;32m<ipython-input-6-07cdd810f677>\u001b[0m in \u001b[0;36m<module>\u001b[1;34m\u001b[0m\n\u001b[0;32m      1\u001b[0m \u001b[1;32mfrom\u001b[0m \u001b[0mpathlib\u001b[0m \u001b[1;32mimport\u001b[0m \u001b[0mPath\u001b[0m\u001b[1;33m\u001b[0m\u001b[1;33m\u001b[0m\u001b[0m\n\u001b[0;32m      2\u001b[0m \u001b[0mdirPath\u001b[0m \u001b[1;33m=\u001b[0m \u001b[1;34m'C:\\\\Users'\u001b[0m\u001b[1;33m\u001b[0m\u001b[1;33m\u001b[0m\u001b[0m\n\u001b[1;32m----> 3\u001b[1;33m \u001b[1;32mfor\u001b[0m \u001b[0mi\u001b[0m \u001b[1;32min\u001b[0m \u001b[0mos\u001b[0m\u001b[1;33m.\u001b[0m\u001b[0mlistdir\u001b[0m\u001b[1;33m(\u001b[0m\u001b[0mdirPath\u001b[0m\u001b[1;33m)\u001b[0m\u001b[1;33m:\u001b[0m\u001b[1;33m\u001b[0m\u001b[1;33m\u001b[0m\u001b[0m\n\u001b[0m\u001b[0;32m      4\u001b[0m     \u001b[1;32mif\u001b[0m \u001b[0mos\u001b[0m\u001b[1;33m.\u001b[0m\u001b[0mpath\u001b[0m\u001b[1;33m.\u001b[0m\u001b[0misdir\u001b[0m\u001b[1;33m(\u001b[0m\u001b[0mos\u001b[0m\u001b[1;33m.\u001b[0m\u001b[0mpath\u001b[0m\u001b[1;33m.\u001b[0m\u001b[0mjoin\u001b[0m\u001b[1;33m(\u001b[0m\u001b[0mdirPath\u001b[0m\u001b[1;33m,\u001b[0m\u001b[0mi\u001b[0m\u001b[1;33m)\u001b[0m\u001b[1;33m)\u001b[0m\u001b[1;33m:\u001b[0m\u001b[1;33m\u001b[0m\u001b[1;33m\u001b[0m\u001b[0m\n\u001b[0;32m      5\u001b[0m         \u001b[0mprint\u001b[0m\u001b[1;33m(\u001b[0m\u001b[0mi\u001b[0m\u001b[1;33m)\u001b[0m\u001b[1;33m\u001b[0m\u001b[1;33m\u001b[0m\u001b[0m\n",
      "\u001b[1;31mNameError\u001b[0m: name 'os' is not defined"
     ]
    }
   ],
   "source": [
    "from pathlib import Path\n",
    "dirPath = 'C:\\\\Users'\n",
    "for i in os.listdir(dirPath):\n",
    "    if os.path.isdir(os.path.join(dirPath,i)):\n",
    "        print(i)"
   ]
  },
  {
   "cell_type": "code",
   "execution_count": null,
   "metadata": {},
   "outputs": [],
   "source": []
  }
 ],
 "metadata": {
  "kernelspec": {
   "display_name": "Python 3",
   "language": "python",
   "name": "python3"
  }
 },
 "nbformat": 4,
 "nbformat_minor": 2
}
