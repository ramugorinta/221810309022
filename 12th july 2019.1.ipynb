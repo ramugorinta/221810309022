{
 "cells": [
  {
   "cell_type": "code",
   "execution_count": 5,
   "metadata": {},
   "outputs": [
    {
     "name": "stdout",
     "output_type": "stream",
     "text": [
      "True\n"
     ]
    }
   ],
   "source": [
    " #Function to validate the rollnumber\n",
    "import re\n",
    "def rollnumbervalidation(roll):\n",
    "   pattern='^[1][5][2][1][A][0][1-5][0-9][1-9]$'\n",
    "   roll=str(roll)\n",
    "   if re.match(pattern,roll):\n",
    "       return True\n",
    "   return False\n",
    "print(rollnumbervalidation('1521A0501'))"
   ]
  },
  {
   "cell_type": "markdown",
   "metadata": {},
   "source": [
    "### Email Id vaalidation using Regular Expression\n",
    "- Example :- Username@DomainName.extention\n",
    "- Username :-\n",
    "       - length will be [6,15]\n",
    "       - no spls characters apart from underscore(_)\n",
    "       - should not begin and ends with underscore(_)\n",
    "       - characters Set : All digits and lower case\n",
    "- Extension:-\n",
    "       - length will be [2,4]\n",
    "       - no spl characters\n",
    "       - character set : lower case character\n",
    "! domainname:-\n",
    "     1.length will be[3-18]\n",
    "     2.no spl characters\n",
    "     3.characters set:-all digits are lowercase charcters"
   ]
  },
  {
   "cell_type": "code",
   "execution_count": 6,
   "metadata": {},
   "outputs": [
    {
     "data": {
      "text/plain": [
       "True"
      ]
     },
     "execution_count": 6,
     "metadata": {},
     "output_type": "execute_result"
    }
   ],
   "source": [
    "def emailIdValidation(email):\n",
    "   pattern = '^[0-9a-z][0-9a-z_.]{5,14}[@][a-z0-9]{3,18}[.][a-z]{2,4}$'\n",
    "   if re.match(pattern,email):\n",
    "       return True\n",
    "   return False\n",
    "emailIdValidation('anilkumar189@gmail.com')"
   ]
  },
  {
   "cell_type": "code",
   "execution_count": 1,
   "metadata": {},
   "outputs": [
    {
     "ename": "NameError",
     "evalue": "name 'turtle' is not defined",
     "output_type": "error",
     "traceback": [
      "\u001b[1;31m---------------------------------------------------------------------------\u001b[0m",
      "\u001b[1;31mNameError\u001b[0m                                 Traceback (most recent call last)",
      "\u001b[1;32m<ipython-input-1-7c40ddeb2b6c>\u001b[0m in \u001b[0;36m<module>\u001b[1;34m()\u001b[0m\n\u001b[0;32m      4\u001b[0m \u001b[0ma1\u001b[0m\u001b[1;33m.\u001b[0m\u001b[0mright\u001b[0m\u001b[1;33m(\u001b[0m\u001b[1;36m45\u001b[0m\u001b[1;33m)\u001b[0m\u001b[1;33m\u001b[0m\u001b[0m\n\u001b[0;32m      5\u001b[0m \u001b[0ma1\u001b[0m\u001b[1;33m.\u001b[0m\u001b[0mbackward\u001b[0m\u001b[1;33m(\u001b[0m\u001b[1;36m10\u001b[0m\u001b[1;33m)\u001b[0m\u001b[1;33m\u001b[0m\u001b[0m\n\u001b[1;32m----> 6\u001b[1;33m \u001b[0mturtle\u001b[0m\u001b[1;33m.\u001b[0m\u001b[0mdone\u001b[0m\u001b[1;33m(\u001b[0m\u001b[1;33m)\u001b[0m\u001b[1;33m\u001b[0m\u001b[0m\n\u001b[0m",
      "\u001b[1;31mNameError\u001b[0m: name 'turtle' is not defined"
     ]
    }
   ],
   "source": [
    "import turtle as tt\n",
    "a1 = tt.Turtle()\n",
    "a1.forward(100)\n",
    "a1.right(45)\n",
    "a1.backward(10)\n",
    "turtle.done()"
   ]
  },
  {
   "cell_type": "code",
   "execution_count": 2,
   "metadata": {},
   "outputs": [
    {
     "ename": "TypeError",
     "evalue": "back() missing 1 required positional argument: 'distance'",
     "output_type": "error",
     "traceback": [
      "\u001b[1;31m---------------------------------------------------------------------------\u001b[0m",
      "\u001b[1;31mTypeError\u001b[0m                                 Traceback (most recent call last)",
      "\u001b[1;32m<ipython-input-2-17384471d399>\u001b[0m in \u001b[0;36m<module>\u001b[1;34m()\u001b[0m\n\u001b[0;32m      1\u001b[0m \u001b[1;32mimport\u001b[0m \u001b[0mturtle\u001b[0m \u001b[1;32mas\u001b[0m \u001b[0mtt\u001b[0m\u001b[1;33m\u001b[0m\u001b[0m\n\u001b[0;32m      2\u001b[0m \u001b[0ma1\u001b[0m \u001b[1;33m=\u001b[0m \u001b[0mtt\u001b[0m\u001b[1;33m.\u001b[0m\u001b[0mTurtle\u001b[0m\u001b[1;33m\u001b[0m\u001b[0m\n\u001b[1;32m----> 3\u001b[1;33m \u001b[0ma1\u001b[0m\u001b[1;33m.\u001b[0m\u001b[0mbackward\u001b[0m\u001b[1;33m(\u001b[0m\u001b[1;36m100\u001b[0m\u001b[1;33m)\u001b[0m\u001b[1;33m\u001b[0m\u001b[0m\n\u001b[0m\u001b[0;32m      4\u001b[0m \u001b[0mtt\u001b[0m\u001b[1;33m.\u001b[0m\u001b[0mdone\u001b[0m\u001b[1;33m(\u001b[0m\u001b[1;33m)\u001b[0m\u001b[1;33m\u001b[0m\u001b[0m\n",
      "\u001b[1;31mTypeError\u001b[0m: back() missing 1 required positional argument: 'distance'"
     ]
    }
   ],
   "source": [
    "import turtle as tt\n",
    "a1 = tt.Turtle\n",
    "a1.backward(100)\n",
    "tt.done()"
   ]
  },
  {
   "cell_type": "code",
   "execution_count": null,
   "metadata": {},
   "outputs": [],
   "source": [
    "import turtle as tt \n",
    "a1 = tt.Turtle()\n",
    "a1.forward(150)\n",
    "a1.right(90)\n",
    "a1.forward(150)\n",
    "a1.right(90)\n",
    "a1.forward(150)\n",
    "a1.right(90)\n",
    "a1.forward(150)\n",
    "a1.right(90)\n",
    "tt.done()  \n"
   ]
  },
  {
   "cell_type": "code",
   "execution_count": null,
   "metadata": {},
   "outputs": [],
   "source": [
    "import turtle as t \n",
    "a2 = turtle.Turtle() \n",
    "\n",
    "for i in range(4): \n",
    "  a2.forward(50) \n",
    "  a2.right(90) \n",
    "    \n",
    "turtle.done() "
   ]
  },
  {
   "cell_type": "code",
   "execution_count": null,
   "metadata": {},
   "outputs": [],
   "source": [
    "import turtle as t\n",
    "a1 = t.Turtle()\n",
    "for i in range(400):\n",
    "  a1.forward(50)\n",
    "  a1.right(144)\n",
    "t.done()\n"
   ]
  },
  {
   "cell_type": "code",
   "execution_count": null,
   "metadata": {},
   "outputs": [],
   "source": [
    "import turtle as t\n",
    "a1 = t.Turtle()\n",
    "for i in range(250):\n",
    "  a1.forward(i)\n",
    "  a1.left(91)\n",
    "t.done()"
   ]
  },
  {
   "cell_type": "code",
   "execution_count": null,
   "metadata": {},
   "outputs": [],
   "source": [
    "import turtle as t\n",
    "a1 = t.Turtle()\n",
    "a1.pencolor('red')\n",
    "for i in range(250):\n",
    "  a1.forward(i)\n",
    "  a1.left(91)\n",
    "t.done()"
   ]
  },
  {
   "cell_type": "code",
   "execution_count": null,
   "metadata": {},
   "outputs": [],
   "source": [
    "import turtle \n",
    "colors = ['red', 'purple', 'blue', 'green', 'orange', 'yellow'] \n",
    "t = turtle.Pen() \n",
    "turtle.bgcolor('black') \n",
    "for x in range(360): \n",
    "  t.pencolor(colors[x%6]) \n",
    "  t.width(x/100 + 1) \n",
    "  t.forward(x) \n",
    "  t.left(59) "
   ]
  },
  {
   "cell_type": "code",
   "execution_count": null,
   "metadata": {},
   "outputs": [],
   "source": [
    "from turtle import * \n",
    "colors = ['red', 'purple', 'blue', 'green', 'orange', 'yellow'] \n",
    "for angle in range(0,360,15):\n",
    "  pencolor(colors[angle%6])\n",
    "  setheading(angle)\n",
    "  forward(100)\n",
    "  write(str(angle)+ 'o')\n",
    "  backward(100)"
   ]
  },
  {
   "cell_type": "code",
   "execution_count": null,
   "metadata": {},
   "outputs": [],
   "source": [
    "from turtle import *\n",
    "pencolor('blue')\n",
    "for i in range(15):\n",
    "  forward(100)\n",
    "  left(90)\n",
    "  forward(10)\n",
    "  left(90)\n",
    "  forward(100)\n",
    "  right(90)\n",
    "  forward(10)\n",
    "  right(90)\n",
    "pencolor('red')\n",
    "for i in range(90):\n",
    "  undo()\n"
   ]
  },
  {
   "cell_type": "code",
   "execution_count": 3,
   "metadata": {},
   "outputs": [],
   "source": [
    "from turtle import *\n",
    "pensize(40)\n",
    "pencolor(\"black\")\n",
    "forward(250)\n",
    "pen(\"0,1.0,0\")\n",
    "forward(250)\n",
    "pensize(10)\n",
    "goto(-400,50)\n",
    "\n",
    "for red in range(4):\n",
    "   for green in range(4):\n",
    "       for blue in range(4):\n",
    "           pencolor(red/4.0,green/4.0,blue/4.0)\n",
    "           forward(10)\n"
   ]
  },
  {
   "cell_type": "code",
   "execution_count": null,
   "metadata": {},
   "outputs": [],
   "source": []
  }
 ],
 "metadata": {
  "kernelspec": {
   "display_name": "Python 3",
   "language": "python",
   "name": "python3"
  },
  "language_info": {
   "codemirror_mode": {
    "name": "ipython",
    "version": 3
   },
   "file_extension": ".py",
   "mimetype": "text/x-python",
   "name": "python",
   "nbconvert_exporter": "python",
   "pygments_lexer": "ipython3",
   "version": "3.6.5"
  }
 },
 "nbformat": 4,
 "nbformat_minor": 2
}
